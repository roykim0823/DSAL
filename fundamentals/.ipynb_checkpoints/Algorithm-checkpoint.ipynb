{
 "cells": [
  {
   "cell_type": "code",
   "execution_count": 1,
   "metadata": {},
   "outputs": [],
   "source": [
    "class Node:\n",
    "    def __init__(self, data=None, next=None):\n",
    "        self.data = data\n",
    "        self.next = next\n",
    "        \n",
    "    def __str__(self):\n",
    "        return str(self.data)    "
   ]
  },
  {
   "cell_type": "code",
   "execution_count": 2,
   "metadata": {},
   "outputs": [],
   "source": [
    "class LinkedStack:\n",
    "    def __init__(self):\n",
    "        self.head = None\n",
    "    \n",
    "    def isEmpty(self):\n",
    "        return self.head == None\n",
    "    \n",
    "    def push(self, data):\n",
    "        old_head = self.head\n",
    "        self.head = Node()\n",
    "        self.head.data = data\n",
    "        self.head.next = old_head\n",
    "    \n",
    "    def pop(self):\n",
    "        data = self.head.data\n",
    "        self.head = self.head.next\n",
    "        return data   "
   ]
  },
  {
   "cell_type": "code",
   "execution_count": 3,
   "metadata": {},
   "outputs": [
    {
     "name": "stdout",
     "output_type": "stream",
     "text": [
      "0\n",
      "10\n",
      "20\n",
      "30\n",
      "0\n",
      "10\n",
      "20\n",
      "30\n"
     ]
    }
   ],
   "source": [
    "stack = LinkedStack()\n",
    "stack.push(30)\n",
    "stack.push(20)\n",
    "stack.push(10)\n",
    "stack.push(0)\n",
    "print(stack.pop())\n",
    "print(stack.pop())\n",
    "print(stack.pop())\n",
    "print(stack.pop())\n",
    "stack.push(30)\n",
    "stack.push(20)\n",
    "stack.push(10)\n",
    "stack.push(0)\n",
    "print(stack.pop())\n",
    "print(stack.pop())\n",
    "print(stack.pop())\n",
    "print(stack.pop())"
   ]
  },
  {
   "cell_type": "code",
   "execution_count": 4,
   "metadata": {},
   "outputs": [],
   "source": [
    "class ArrayStack:\n",
    "    def __init__(self):\n",
    "        self.array = []\n",
    "    \n",
    "    def isEmpty(self):\n",
    "        return len(self.array) == 0\n",
    "    \n",
    "    def push(self, data):\n",
    "        self.array.append(data)        \n",
    "    \n",
    "    def pop(self):\n",
    "        return self.array.pop() # default -1       "
   ]
  },
  {
   "cell_type": "code",
   "execution_count": 5,
   "metadata": {},
   "outputs": [
    {
     "name": "stdout",
     "output_type": "stream",
     "text": [
      "0\n",
      "10\n",
      "20\n",
      "30\n",
      "0\n",
      "10\n",
      "20\n",
      "30\n"
     ]
    }
   ],
   "source": [
    "stack = ArrayStack()\n",
    "stack.push(30)\n",
    "stack.push(20)\n",
    "stack.push(10)\n",
    "stack.push(0)\n",
    "print(stack.pop())\n",
    "print(stack.pop())\n",
    "print(stack.pop())\n",
    "print(stack.pop())\n",
    "stack.push(30)\n",
    "stack.push(20)\n",
    "stack.push(10)\n",
    "stack.push(0)\n",
    "print(stack.pop())\n",
    "print(stack.pop())\n",
    "print(stack.pop())\n",
    "print(stack.pop())"
   ]
  },
  {
   "cell_type": "markdown",
   "metadata": {},
   "source": [
    "## Stack Implementation: linked list vs resizing array\n",
    "### Linked-list implementation\n",
    "  + Every operation takes constant time in the worst case.\n",
    "  - Uses extra time and space to deal with the links\n",
    "### Resizing-array implementation\n",
    "  + Every operation takes contant amortized time\n",
    "  + Less wasted space\n",
    "  - Resizing takes a longer time"
   ]
  },
  {
   "cell_type": "code",
   "execution_count": 6,
   "metadata": {},
   "outputs": [],
   "source": [
    "class LinkedQueue:\n",
    "    def __init__(self):\n",
    "        self.head = None\n",
    "        self.tail = None\n",
    "    \n",
    "    def isEmpty(self):\n",
    "        return self.head == None\n",
    "    \n",
    "    def enqueue(self, data):\n",
    "        old_tail = self.tail        \n",
    "        self.tail = Node()\n",
    "        self.tail.data = data\n",
    "        self.tail.next = None        \n",
    "        if self.isEmpty():\n",
    "            self.head = self.tail\n",
    "        else:\n",
    "            old_tail.next = self.tail                \n",
    "    \n",
    "    def dequeue(self):        \n",
    "        data = self.head.data\n",
    "        self.head = self.head.next        \n",
    "        if self.isEmpty():\n",
    "            self.tail = None              \n",
    "        return data  "
   ]
  },
  {
   "cell_type": "code",
   "execution_count": 7,
   "metadata": {},
   "outputs": [
    {
     "name": "stdout",
     "output_type": "stream",
     "text": [
      "30\n",
      "20\n",
      "10\n",
      "0\n",
      "30\n",
      "20\n",
      "10\n",
      "0\n"
     ]
    }
   ],
   "source": [
    "queue = LinkedQueue()\n",
    "queue.enqueue(30) \n",
    "queue.enqueue(20) \n",
    "queue.enqueue(10) \n",
    "queue.enqueue(0) \n",
    "print(queue.dequeue())\n",
    "print(queue.dequeue())\n",
    "print(queue.dequeue())\n",
    "print(queue.dequeue())\n",
    "queue.enqueue(30) \n",
    "queue.enqueue(20) \n",
    "queue.enqueue(10) \n",
    "queue.enqueue(0) \n",
    "print(queue.dequeue())\n",
    "print(queue.dequeue())\n",
    "print(queue.dequeue())\n",
    "print(queue.dequeue())"
   ]
  },
  {
   "cell_type": "code",
   "execution_count": 10,
   "metadata": {},
   "outputs": [],
   "source": [
    "class ArrayQueue:\n",
    "    def __init__(self):\n",
    "        self.array = []\n",
    "    \n",
    "    def isEmpty(self):\n",
    "        return len(self.array) == 0\n",
    "    \n",
    "    def enqueue(self, data):\n",
    "        self.array.append(data)\n",
    "    \n",
    "    def dequeue(self):\n",
    "        return self.array.pop(0) # default -1    "
   ]
  },
  {
   "cell_type": "code",
   "execution_count": 11,
   "metadata": {},
   "outputs": [
    {
     "name": "stdout",
     "output_type": "stream",
     "text": [
      "30\n",
      "20\n",
      "10\n",
      "0\n",
      "30\n",
      "20\n",
      "10\n",
      "0\n"
     ]
    }
   ],
   "source": [
    "queue = ArrayQueue()\n",
    "queue.enqueue(30) \n",
    "queue.enqueue(20) \n",
    "queue.enqueue(10) \n",
    "queue.enqueue(0) \n",
    "print(queue.dequeue())\n",
    "print(queue.dequeue())\n",
    "print(queue.dequeue())\n",
    "print(queue.dequeue())\n",
    "queue.enqueue(30) \n",
    "queue.enqueue(20) \n",
    "queue.enqueue(10) \n",
    "queue.enqueue(0) \n",
    "print(queue.dequeue())\n",
    "print(queue.dequeue())\n",
    "print(queue.dequeue())\n",
    "print(queue.dequeue())"
   ]
  },
  {
   "cell_type": "markdown",
   "metadata": {},
   "source": [
    "# 3-sum"
   ]
  },
  {
   "cell_type": "code",
   "execution_count": 33,
   "metadata": {},
   "outputs": [
    {
     "name": "stdout",
     "output_type": "stream",
     "text": [
      "0 1 6 -> 30 -40 10\n",
      "0 2 3 -> 30 -20 -10\n",
      "1 4 5 -> -40 40 0\n",
      "3 5 6 -> -10 0 10\n",
      "sum =  0 -> 4\n",
      "0 2 5 -> 30 -20 0\n",
      "1 4 6 -> -40 40 10\n",
      "2 3 4 -> -20 -10 40\n",
      "sum =  10 -> 3\n",
      "0 2 6 -> 30 -20 10\n",
      "0 3 5 -> 30 -10 0\n",
      "2 4 5 -> -20 40 0\n",
      "sum =  20 -> 3\n",
      "0 1 4 -> 30 -40 40\n",
      "0 3 6 -> 30 -10 10\n",
      "2 4 6 -> -20 40 10\n",
      "3 4 5 -> -10 40 0\n",
      "sum =  30 -> 4\n",
      "0 5 6 -> 30 0 10\n",
      "3 4 6 -> -10 40 10\n",
      "sum =  40 -> 2\n",
      "0 2 4 -> 30 -20 40\n",
      "4 5 6 -> 40 0 10\n",
      "sum =  50 -> 2\n",
      "0 3 4 -> 30 -10 40\n",
      "sum =  60 -> 1\n",
      "0 4 5 -> 30 40 0\n",
      "sum =  70 -> 1\n",
      "0 4 6 -> 30 40 10\n",
      "sum =  80 -> 1\n",
      "sum =  90 -> 0\n"
     ]
    }
   ],
   "source": [
    "# ver1: brute-force, O(n^3)\n",
    "# C(N 3) = N(N-1)(N-2) / 3! = 1/6 N^3\n",
    "def count_three_sum_v1(num_list, sum):\n",
    "    count = 0\n",
    "    for i in range(0, len(num_list)-2):\n",
    "        for j in range(i+1, len(num_list)-1):\n",
    "            for k in range(j+1, len(num_list)):\n",
    "                if num_list[i] + num_list[j] + num_list[k] == sum:\n",
    "                    print(i, j, k, \"->\", num_list[i], num_list[j], num_list[k])\n",
    "                    count += 1\n",
    "    return count\n",
    "\n",
    "input_list = [30, -40, -20, -10, 40, 0, 10, 5]\n",
    "for sum_value in range(0, 100, 10):\n",
    "    print(\"sum = \", sum_value, \"->\",  count_three_sum_v1(input_list, sum_value))  "
   ]
  },
  {
   "cell_type": "code",
   "execution_count": 13,
   "metadata": {},
   "outputs": [
    {
     "data": {
      "text/plain": [
       "range(0, 4)"
      ]
     },
     "execution_count": 13,
     "metadata": {},
     "output_type": "execute_result"
    }
   ],
   "source": [
    "range(0, 4)"
   ]
  },
  {
   "cell_type": "code",
   "execution_count": 32,
   "metadata": {},
   "outputs": [
    {
     "name": "stdout",
     "output_type": "stream",
     "text": [
      "sum =  0 -> 4\n",
      "sum =  10 -> 3\n",
      "sum =  20 -> 3\n",
      "sum =  30 -> 4\n",
      "sum =  40 -> 2\n",
      "sum =  50 -> 2\n",
      "sum =  60 -> 1\n",
      "sum =  70 -> 1\n",
      "sum =  80 -> 1\n",
      "sum =  90 -> 0\n"
     ]
    }
   ],
   "source": [
    "# ver2: Using binary search after sorting\n",
    "# O(N^2logN)\n",
    "\n",
    "def binary_search(input_list, key):\n",
    "    lo = 0\n",
    "    hi = len(input_list)-1\n",
    "    while lo <= hi:\n",
    "        mid = lo + (hi - lo) // 2\n",
    "        if key < input_list[mid]:\n",
    "            hi = mid - 1\n",
    "        elif key > input_list[mid]:\n",
    "            lo = mid + 1\n",
    "        else:\n",
    "            return mid\n",
    "    return -1\n",
    "\n",
    "def count_three_sum_v2(num_list, sum):\n",
    "    count = 0\n",
    "    num_list.sort()\n",
    "    for i in range(0, len(num_list)-2):\n",
    "        for j in range(i+1, len(num_list)-1):\n",
    "            k = binary_search(num_list, sum - (num_list[i]+num_list[j]))\n",
    "            if k != -1 and k > j:  # only count if i < j < k to avoid double counting\n",
    "                # print(i, j, k, \"->\", num_list[i], num_list[j], num_list[k])\n",
    "                count += 1\n",
    "    return count\n",
    "\n",
    "input_list = [30, -40, -20, -10, 40, 0, 10, 5]\n",
    "for sum_value in range(0, 100, 10):\n",
    "    print(\"sum = \", sum_value, \"->\",  count_three_sum_v2(input_list, sum_value))      "
   ]
  },
  {
   "cell_type": "code",
   "execution_count": 36,
   "metadata": {},
   "outputs": [
    {
     "name": "stdout",
     "output_type": "stream",
     "text": [
      "sum =  0 -> 4\n",
      "sum =  10 -> 3\n",
      "sum =  20 -> 3\n",
      "sum =  30 -> 4\n",
      "sum =  40 -> 2\n",
      "sum =  50 -> 2\n",
      "sum =  60 -> 1\n",
      "sum =  70 -> 1\n",
      "sum =  80 -> 1\n",
      "sum =  90 -> 0\n"
     ]
    }
   ],
   "source": [
    "# ver3: Using Hashing\n",
    "# O(N^2)\n",
    "def count_three_sum_v3(num_list, sum):\n",
    "    count = 0    \n",
    "    for i in range(0, len(num_list)-2):\n",
    "        cur_sum = sum - num_list[i] \n",
    "        s = set()  # same as unordered_set in C++ STL\n",
    "        for j in range(i+1, len(num_list)):\n",
    "            if cur_sum - num_list[j] in s:                        \n",
    "                # print(i, j, \"->\", num_list[i], num_list[j], cur_sum-num_list[j])\n",
    "                count += 1\n",
    "            s.add(num_list[j])\n",
    "    return count\n",
    "\n",
    "input_list = [30, -40, -20, -10, 40, 0, 10, 5]\n",
    "for sum_value in range(0, 100, 10):\n",
    "    print(\"sum = \", sum_value, \"->\",  count_three_sum_v3(input_list, sum_value)) "
   ]
  },
  {
   "cell_type": "code",
   "execution_count": null,
   "metadata": {},
   "outputs": [],
   "source": [
    "# adding Four sum -> n sums"
   ]
  }
 ],
 "metadata": {
  "kernelspec": {
   "display_name": "Python 3",
   "language": "python",
   "name": "python3"
  },
  "language_info": {
   "codemirror_mode": {
    "name": "ipython",
    "version": 3
   },
   "file_extension": ".py",
   "mimetype": "text/x-python",
   "name": "python",
   "nbconvert_exporter": "python",
   "pygments_lexer": "ipython3",
   "version": "3.7.3"
  }
 },
 "nbformat": 4,
 "nbformat_minor": 2
}
